{
 "cells": [
  {
   "cell_type": "code",
   "execution_count": 1,
   "id": "1e407bed",
   "metadata": {},
   "outputs": [],
   "source": [
    "import cv2\n",
    "import numpy as np\n",
    "import matplotlib.pyplot as plt\n",
    "%matplotlib inline"
   ]
  },
  {
   "cell_type": "code",
   "execution_count": 53,
   "id": "06765f63",
   "metadata": {},
   "outputs": [],
   "source": [
    "i=cv2.imread('img',0)\n",
    "m,n=i.shape\n",
    "i=cv2.threshold(i,127,255,cv2.THRESH_BINARY)[1]\n",
    "cv2.imshow('img',i)\n",
    "cv2.waitKey(0)\n",
    "cv2.destroyAllWindows()"
   ]
  },
  {
   "cell_type": "markdown",
   "id": "a43d7b4c",
   "metadata": {},
   "source": [
    "# Gaussian Pyramid"
   ]
  },
  {
   "cell_type": "code",
   "execution_count": 31,
   "id": "02f0de7f",
   "metadata": {},
   "outputs": [],
   "source": [
    "l=cv2.resize(i,(2000,2000))"
   ]
  },
  {
   "cell_type": "code",
   "execution_count": 32,
   "id": "7d0fdafe",
   "metadata": {},
   "outputs": [],
   "source": [
    "for j in range(2):\n",
    "    cv2.imshow(f'img{j}',l)\n",
    "    l=cv2.pyrDown(l)\n",
    "cv2.waitKey(0)\n",
    "cv2.destroyAllWindows()"
   ]
  },
  {
   "cell_type": "code",
   "execution_count": 33,
   "id": "559323d1",
   "metadata": {},
   "outputs": [],
   "source": [
    "l=cv2.resize(i,(150,150))"
   ]
  },
  {
   "cell_type": "code",
   "execution_count": 34,
   "id": "b5be5556",
   "metadata": {},
   "outputs": [],
   "source": [
    "for j in range(2):\n",
    "    cv2.imshow(f'img{j}',l)\n",
    "    l=cv2.pyrUp(l)\n",
    "cv2.waitKey(0)\n",
    "cv2.destroyAllWindows()"
   ]
  },
  {
   "cell_type": "markdown",
   "id": "552019c2",
   "metadata": {},
   "source": [
    "# Laplacian Pyramid"
   ]
  },
  {
   "cell_type": "code",
   "execution_count": 75,
   "id": "0a1a625e",
   "metadata": {},
   "outputs": [],
   "source": [
    "l=cv2.resize(i,(150,150))"
   ]
  },
  {
   "cell_type": "code",
   "execution_count": 79,
   "id": "3baf7b2b",
   "metadata": {},
   "outputs": [
    {
     "name": "stdout",
     "output_type": "stream",
     "text": [
      "[[254 254 254 ... 254 254 254]\n",
      " [254 254 254 ... 254 254 254]\n",
      " [243 242 241 ... 247 252 254]\n",
      " ...\n",
      " [254 254 254 ... 254 254 254]\n",
      " [254 254 254 ... 254 254 254]\n",
      " [254 254 254 ... 254 254 254]]\n"
     ]
    }
   ],
   "source": [
    "k=[]\n",
    "for j in range(3):\n",
    "    k.append(cv2.pyrUp(l))\n",
    "    v=cv2.subtract(k[j-1],i)\n",
    "    cv2.imshow('v',v)\n",
    "    cv2.waitKey(0)\n",
    "    cv2.destroyAllWindows()\n",
    "print(v)"
   ]
  },
  {
   "cell_type": "code",
   "execution_count": 66,
   "id": "36f53b21",
   "metadata": {},
   "outputs": [
    {
     "data": {
      "text/plain": [
       "array([[255, 255, 255, ..., 255, 255, 255],\n",
       "       [255, 255, 255, ..., 255, 255, 255],\n",
       "       [244, 243, 242, ..., 248, 253, 255],\n",
       "       ...,\n",
       "       [255, 255, 255, ..., 255, 255, 255],\n",
       "       [255, 255, 255, ..., 255, 255, 255],\n",
       "       [255, 255, 255, ..., 255, 255, 255]], dtype=uint8)"
      ]
     },
     "execution_count": 66,
     "metadata": {},
     "output_type": "execute_result"
    }
   ],
   "source": [
    "import cv2\n",
    "\n",
    "# Load the image\n",
    "img = cv2.imread('car.jpg')\n",
    "lower = img.copy()\n",
    "\n",
    "# Create a Gaussian Pyramid\n",
    "gaussian_pyr = [lower]\n",
    "for i in range(3):\n",
    "   lower = cv2.pyrDown(lower)\n",
    "   gaussian_pyr.append(lower)\n",
    "\n",
    "# Last level of Gaussian remains same in Laplacian\n",
    "laplacian_top = gaussian_pyr[-1]\n",
    "\n",
    "# Create a Laplacian Pyramid\n",
    "laplacian_pyr = [laplacian_top]\n",
    "for i in range(3,0,-1):\n",
    "   size = (gaussian_pyr[i - 1].shape[1], gaussian_pyr[i - 1].shape[0])\n",
    "   gaussian_expanded = cv2.pyrUp(gaussian_pyr[i], dstsize=size)\n",
    "   laplacian = cv2.subtract(gaussian_pyr[i-1], gaussian_expanded)\n",
    "   laplacian_pyr.append(laplacian)\n",
    "\n",
    "# create three windows to display three layers of images\n",
    "cv2.namedWindow('Layer 1', cv2.WINDOW_AUTOSIZE)\n",
    "cv2.namedWindow('Layer 2', cv2.WINDOW_AUTOSIZE)\n",
    "cv2.namedWindow('Layer 3', cv2.WINDOW_AUTOSIZE)\n",
    "\n",
    "# display all three layers\n",
    "cv2.imshow('Layer 1',laplacian_pyr[3])\n",
    "cv2.imshow('Layer 2',laplacian_pyr[2])\n",
    "cv2.imshow('Layer 3',laplacian_pyr[1])\n",
    "cv2.waitKey(0)\n",
    "cv2.destroyAllWindows()"
   ]
  },
  {
   "cell_type": "code",
   "execution_count": null,
   "id": "7761afe2",
   "metadata": {},
   "outputs": [],
   "source": []
  }
 ],
 "metadata": {
  "kernelspec": {
   "display_name": "Python 3",
   "language": "python",
   "name": "python3"
  },
  "language_info": {
   "codemirror_mode": {
    "name": "ipython",
    "version": 3
   },
   "file_extension": ".py",
   "mimetype": "text/x-python",
   "name": "python",
   "nbconvert_exporter": "python",
   "pygments_lexer": "ipython3",
   "version": "3.8.8"
  }
 },
 "nbformat": 4,
 "nbformat_minor": 5
}
