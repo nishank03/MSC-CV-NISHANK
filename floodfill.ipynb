{
 "cells": [
  {
   "cell_type": "code",
   "execution_count": 6,
   "metadata": {},
   "outputs": [],
   "source": [
    "import cv2\n",
    "import numpy as np\n",
    "import matplotlib.pyplot as plt\n",
    "%matplotlib inline"
   ]
  },
  {
   "cell_type": "code",
   "execution_count": 14,
   "metadata": {},
   "outputs": [
    {
     "data": {
      "image/png": "[encoded data removed]",
      "text/plain": [
       "<Figure size 432x288 with 1 Axes>"
      ]
     },
     "metadata": {
      "needs_background": "light"
     },
     "output_type": "display_data"
    }
   ],
   "source": [
    "i=cv2.imread('img',0)\n",
    "m,n=i.shape\n",
    "i=cv2.threshold(i,127,255,cv2.THRESH_BINARY)[1]\n",
    "plt.imshow(i,cmap='gray')\n",
    "plt.show()\n",
    "cv2.imshow('img',i)\n",
    "cv2.waitKey(0)\n",
    "cv2.destroyAllWindows()"
   ]
  },
  {
   "cell_type": "code",
   "execution_count": 16,
   "metadata": {},
   "outputs": [
    {
     "data": {
      "image/png": "[encoded data removed]",
      "text/plain": [
       "<Figure size 432x288 with 1 Axes>"
      ]
     },
     "metadata": {
      "needs_background": "light"
     },
     "output_type": "display_data"
    }
   ],
   "source": [
    "def ff(i,x,y,n_clr):\n",
    "    o_clr=i[x][y]\n",
    "    l=[]\n",
    "    if o_clr!=n_clr:\n",
    "        l.append((x,y))\n",
    "        i[x][y]=n_clr\n",
    "    while l:\n",
    "        def is_valid(i,x,y,n_clr,o_clr):\n",
    "            if x<0 or x>i.shape[0] or y<0 or y>i.shape[1]:\n",
    "                return False\n",
    "            elif i[x][y]!=o_clr or i[x][y]==n_clr:\n",
    "                return False\n",
    "            else:\n",
    "                return True\n",
    "        sx,sy=l.pop()\n",
    "        if is_valid(i,sx-1,sy,n_clr,o_clr):\n",
    "            l.append((sx-1,sy))\n",
    "            i[sx-1][sy]=n_clr\n",
    "            \n",
    "        if is_valid(i,sx+1,sy,n_clr,o_clr):\n",
    "            l.append((sx+1,sy))\n",
    "            i[sx+1][sy]=n_clr\n",
    "            \n",
    "        if is_valid(i,sx,sy-1,n_clr,o_clr):\n",
    "            l.append((sx,sy-1))\n",
    "            i[sx][sy-1]=n_clr\n",
    "            \n",
    "        if is_valid(i,sx,sy+1,n_clr,o_clr):\n",
    "            l.append((sx,sy+1))\n",
    "            i[sx][sy+1]=n_clr\n",
    "        \n",
    "    return i\n",
    "f=ff(i.copy(),200,50,200)\n",
    "plt.imshow(f,cmap='gray')\n",
    "cv2.imshow('ff',f)\n",
    "cv2.waitKey(0)\n",
    "cv2.destroyAllWindows()"
   ]
  },
  {
   "cell_type": "code",
   "execution_count": null,
   "metadata": {},
   "outputs": [],
   "source": []
  }
 ],
 "metadata": {
  "kernelspec": {
   "display_name": "Python 3",
   "language": "python",
   "name": "python3"
  },
  "language_info": {
   "codemirror_mode": {
    "name": "ipython",
    "version": 3
   },
   "file_extension": ".py",
   "mimetype": "text/x-python",
   "name": "python",
   "nbconvert_exporter": "python",
   "pygments_lexer": "ipython3",
   "version": "3.8.8"
  },
  "vscode": {
   "interpreter": {
    "hash": "ad2bdc8ecc057115af97d19610ffacc2b4e99fae6737bb82f5d7fb13d2f2c186"
   }
  }
 },
 "nbformat": 4,
 "nbformat_minor": 2
}
